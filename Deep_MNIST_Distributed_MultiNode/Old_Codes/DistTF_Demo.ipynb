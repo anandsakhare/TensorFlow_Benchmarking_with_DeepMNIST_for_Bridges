{
 "cells": [
  {
   "cell_type": "code",
   "execution_count": 1,
   "metadata": {},
   "outputs": [
    {
     "data": {
      "text/plain": [
       "b'Hello, distributed TensorFlow!'"
      ]
     },
     "execution_count": 1,
     "metadata": {},
     "output_type": "execute_result"
    }
   ],
   "source": [
    "import tensorflow as tf\n",
    "c = tf.constant(\"Hello, distributed TensorFlow!\")\n",
    "server = tf.train.Server.create_local_server() #Creates a server\n",
    "sess = tf.Session(server.target)  # Create a session on the server.\n",
    "sess.run(c)"
   ]
  },
  {
   "cell_type": "code",
   "execution_count": 2,
   "metadata": {},
   "outputs": [],
   "source": [
    "cluster = tf.train.ClusterSpec({\"local\": [\"localhost:2222\", \"localhost:2223\"]})\n",
    "server = tf.train.Server(cluster, job_name=\"local\", task_index=0)\n",
    "#cluster = tf.train.ClusterSpec({\"local\": [\"localhost:2222\", \"localhost:2223\"]})\n",
    "#server = tf.train.Server(cluster, job_name=\"local\", task_index=1)"
   ]
  },
  {
   "cell_type": "code",
   "execution_count": 5,
   "metadata": {},
   "outputs": [
    {
     "data": {
      "text/plain": [
       "{'local': ['localhost:2222', 'localhost:2223']}"
      ]
     },
     "execution_count": 5,
     "metadata": {},
     "output_type": "execute_result"
    }
   ],
   "source": [
    "cluster.as_dict()"
   ]
  },
  {
   "cell_type": "code",
   "execution_count": 1,
   "metadata": {},
   "outputs": [
    {
     "name": "stdout",
     "output_type": "stream",
     "text": [
      "*******Device Info Seen By TensorFlow*******\n",
      "[name: \"/cpu:0\"\n",
      "device_type: \"CPU\"\n",
      "memory_limit: 268435456\n",
      "locality {\n",
      "}\n",
      "incarnation: 14646601112833075701\n",
      ", name: \"/gpu:0\"\n",
      "device_type: \"GPU\"\n",
      "memory_limit: 15917685146\n",
      "locality {\n",
      "  bus_id: 2\n",
      "}\n",
      "incarnation: 2329635678512156560\n",
      "physical_device_desc: \"device: 0, name: Tesla P100-PCIE-16GB, pci bus id: 0000:81:00.0\"\n",
      "]\n"
     ]
    }
   ],
   "source": [
    "from tensorflow.python.client import device_lib\n",
    "print(\"*******Device Info Seen By TensorFlow*******\")\n",
    "print(device_lib.list_local_devices())"
   ]
  },
  {
   "cell_type": "code",
   "execution_count": 2,
   "metadata": {
    "scrolled": false
   },
   "outputs": [
    {
     "name": "stdout",
     "output_type": "stream",
     "text": [
      "[[22. 28.]\n",
      " [49. 64.]]\n"
     ]
    }
   ],
   "source": [
    "import tensorflow as tf\n",
    "with tf.device('/device:GPU:2'):\n",
    "    a = tf.constant([1.0, 2.0, 3.0, 4.0, 5.0, 6.0], shape=[2, 3], name='a')\n",
    "    b = tf.constant([1.0, 2.0, 3.0, 4.0, 5.0, 6.0], shape=[3, 2], name='b')\n",
    "    c = tf.matmul(a, b)\n",
    "    sess = tf.Session(config=tf.ConfigProto(log_device_placement=True))\n",
    "    print(sess.run(c))"
   ]
  },
  {
   "cell_type": "code",
   "execution_count": 3,
   "metadata": {},
   "outputs": [
    {
     "data": {
      "text/plain": [
       "array([[22., 28.],\n",
       "       [49., 64.]], dtype=float32)"
      ]
     },
     "execution_count": 3,
     "metadata": {},
     "output_type": "execute_result"
    }
   ],
   "source": [
    "with tf.device(\"/job:ps/task:0\"):\n",
    "    weights_1 = tf.Variable(...)\n",
    "    biases_1 = tf.Variable(...)\n",
    "\n",
    "with tf.device(\"/job:ps/task:1\"):\n",
    "    weights_2 = tf.Variable(...)\n",
    "    biases_2 = tf.Variable(...)\n",
    "\n",
    "with tf.device(\"/job:worker/task:7\"):\n",
    "    input, labels = ...\n",
    "    layer_1 = tf.nn.relu(tf.matmul(input, weights_1) + biases_1)\n",
    "    logits = tf.nn.relu(tf.matmul(layer_1, weights_2) + biases_2)\n",
    "  # ...\n",
    "    train_op = ...\n",
    "\n",
    "with tf.Session(\"grpc://worker7.example.com:2222\") as sess:\n",
    "    for _ in range(10000):\n",
    "        sess.run(train_op)"
   ]
  },
  {
   "cell_type": "code",
   "execution_count": 7,
   "metadata": {},
   "outputs": [],
   "source": [
    "#Distributed TensorFlow : Cluster Creation Example\n",
    "\n",
    "cluster = tf.train.ClusterSpec({\"worker\": [\n",
    "        \"gpu047.pvt.bridges.psc.edu:2222\",\n",
    "        \"gpu046.pvt.bridges.psc.edu:2222\"\n",
    "    ]#,\n",
    "    #\"ps\": [\n",
    "    #    \"localhost:2222\",\n",
    "    #]\n",
    "                               })"
   ]
  },
  {
   "cell_type": "code",
   "execution_count": 17,
   "metadata": {},
   "outputs": [],
   "source": [
    "server = tf.train.Server(cluster, job_name=\"worker\", task_index=0)\n",
    "server = tf.train.Server(cluster, job_name=\"worker\", task_index=1)\n",
    "#server_3 = tf.train.Server(cluster, job_name=\"ps\", task_index=0)"
   ]
  },
  {
   "cell_type": "code",
   "execution_count": 1,
   "metadata": {
    "scrolled": false
   },
   "outputs": [
    {
     "name": "stdout",
     "output_type": "stream",
     "text": [
      "[[22. 28.]\n",
      " [49. 64.]]\n"
     ]
    }
   ],
   "source": [
    "import tensorflow as tf\n",
    "with tf.device(\"/cpu:0\"):\n",
    "    a = tf.constant([1.0, 2.0, 3.0, 4.0, 5.0, 6.0], shape=[2, 3], name='a')\n",
    "    b = tf.constant([1.0, 2.0, 3.0, 4.0, 5.0, 6.0], shape=[3, 2], name='b')\n",
    "with tf.device(\"/gpu:0\"):\n",
    "    c = tf.matmul(a, b)\n",
    "    sess = tf.Session(config=tf.ConfigProto(log_device_placement=True))\n",
    "    print(sess.run(c))"
   ]
  },
  {
   "cell_type": "code",
   "execution_count": 13,
   "metadata": {},
   "outputs": [
    {
     "name": "stdout",
     "output_type": "stream",
     "text": [
      "[name: \"/cpu:0\"\n",
      "device_type: \"CPU\"\n",
      "memory_limit: 268435456\n",
      "locality {\n",
      "}\n",
      "incarnation: 1259741900768258021\n",
      ", name: \"/gpu:0\"\n",
      "device_type: \"GPU\"\n",
      "memory_limit: 605290496\n",
      "locality {\n",
      "  bus_id: 2\n",
      "}\n",
      "incarnation: 17834486825444952031\n",
      "physical_device_desc: \"device: 0, name: Tesla P100-PCIE-16GB, pci bus id: 0000:81:00.0\"\n",
      "]\n"
     ]
    }
   ],
   "source": [
    "print(device_lib.list_local_devices())"
   ]
  },
  {
   "cell_type": "code",
   "execution_count": 1,
   "metadata": {},
   "outputs": [
    {
     "name": "stdout",
     "output_type": "stream",
     "text": [
      "[[ 44.  56.]\n",
      " [ 98. 128.]]\n"
     ]
    }
   ],
   "source": [
    "# Creates a graph.\n",
    "import tensorflow as tf\n",
    "c = []\n",
    "for d in ['/device:GPU:2', '/device:GPU:3']:\n",
    "    with tf.device(d):\n",
    "        a = tf.constant([1.0, 2.0, 3.0, 4.0, 5.0, 6.0], shape=[2, 3])\n",
    "        b = tf.constant([1.0, 2.0, 3.0, 4.0, 5.0, 6.0], shape=[3, 2])\n",
    "        c.append(tf.matmul(a, b))\n",
    "with tf.device('/cpu:0'):\n",
    "    sum = tf.add_n(c)\n",
    "# Creates a session with log_device_placement set to True.\n",
    "sess = tf.Session(config=tf.ConfigProto(log_device_placement=True))\n",
    "# Runs the op.\n",
    "print(sess.run(sum))"
   ]
  },
  {
   "cell_type": "code",
   "execution_count": 1,
   "metadata": {},
   "outputs": [
    {
     "data": {
      "text/plain": [
       "'1.0.1'"
      ]
     },
     "execution_count": 1,
     "metadata": {},
     "output_type": "execute_result"
    }
   ],
   "source": [
    "import tensorflow as tf\n",
    "tf.__version__"
   ]
  },
  {
   "cell_type": "code",
   "execution_count": 2,
   "metadata": {},
   "outputs": [],
   "source": [
    "cluster_spec = tf.train.ClusterSpec({'ps' : ['localhost:2222'], \n",
    "                                     #'worker' : ['localhost:2223'] \n",
    "                                    })"
   ]
  },
  {
   "cell_type": "code",
   "execution_count": 3,
   "metadata": {},
   "outputs": [],
   "source": [
    "server = tf.train.Server(cluster_spec,job_name='ps',task_index=0)"
   ]
  },
  {
   "cell_type": "code",
   "execution_count": 4,
   "metadata": {},
   "outputs": [
    {
     "data": {
      "text/plain": [
       "b'grpc://localhost:2222'"
      ]
     },
     "execution_count": 4,
     "metadata": {},
     "output_type": "execute_result"
    }
   ],
   "source": [
    "server.target"
   ]
  },
  {
   "cell_type": "code",
   "execution_count": 5,
   "metadata": {},
   "outputs": [
    {
     "name": "stdout",
     "output_type": "stream",
     "text": [
      "python    10287 asakhare   12u  IPv4 63058391      0t0  TCP 127.0.0.1:42232 (LISTEN)\n",
      "python    10287 asakhare   14u  IPv4 63058393      0t0  TCP 127.0.0.1:52143 (LISTEN)\n",
      "python    10287 asakhare   16u  IPv4 63058395      0t0  TCP 127.0.0.1:41934 (LISTEN)\n",
      "python    10287 asakhare   18u  IPv4 63058397      0t0  TCP 127.0.0.1:52705 (LISTEN)\n",
      "python    10287 asakhare   22u  IPv4 63058400      0t0  TCP 127.0.0.1:37493 (LISTEN)\n",
      "python    10287 asakhare   31u  IPv4 63043182      0t0  TCP 127.0.0.1:35252 (LISTEN)\n",
      "python    10287 asakhare   65u  IPv6 63053177      0t0  TCP *:2222 (LISTEN)\n",
      "python    10287 asakhare   66u  IPv6 63053178      0t0  TCP *:2222 (LISTEN)\n"
     ]
    }
   ],
   "source": [
    "%%bash\n",
    "lsof -i -P -n | grep LISTEN | grep python"
   ]
  },
  {
   "cell_type": "code",
   "execution_count": 10,
   "metadata": {},
   "outputs": [
    {
     "data": {
      "text/plain": [
       "cluster {\n",
       "  job {\n",
       "    name: \"local\"\n",
       "    tasks {\n",
       "      value: \"localhost:0\"\n",
       "    }\n",
       "  }\n",
       "}\n",
       "job_name: \"local\"\n",
       "protocol: \"grpc\""
      ]
     },
     "execution_count": 10,
     "metadata": {},
     "output_type": "execute_result"
    }
   ],
   "source": [
    "server.server_def"
   ]
  },
  {
   "cell_type": "code",
   "execution_count": 11,
   "metadata": {},
   "outputs": [],
   "source": [
    "sess = tf.Session(target=server.target)"
   ]
  },
  {
   "cell_type": "code",
   "execution_count": 12,
   "metadata": {},
   "outputs": [],
   "source": [
    "server = tf.train.Server.create_local_server()"
   ]
  },
  {
   "cell_type": "code",
   "execution_count": 13,
   "metadata": {},
   "outputs": [
    {
     "name": "stdout",
     "output_type": "stream",
     "text": [
      "python    10287 asakhare   12u  IPv4 63058391      0t0  TCP 127.0.0.1:42232 (LISTEN)\n",
      "python    10287 asakhare   14u  IPv4 63058393      0t0  TCP 127.0.0.1:52143 (LISTEN)\n",
      "python    10287 asakhare   16u  IPv4 63058395      0t0  TCP 127.0.0.1:41934 (LISTEN)\n",
      "python    10287 asakhare   18u  IPv4 63058397      0t0  TCP 127.0.0.1:52705 (LISTEN)\n",
      "python    10287 asakhare   22u  IPv4 63058400      0t0  TCP 127.0.0.1:37493 (LISTEN)\n",
      "python    10287 asakhare   31u  IPv4 63043182      0t0  TCP 127.0.0.1:35252 (LISTEN)\n",
      "python    10287 asakhare   65u  IPv6 63053177      0t0  TCP *:2222 (LISTEN)\n",
      "python    10287 asakhare   66u  IPv6 63053178      0t0  TCP *:2222 (LISTEN)\n",
      "python    10287 asakhare   74u  IPv6 63059510      0t0  TCP *:38480 (LISTEN)\n",
      "python    10287 asakhare   75u  IPv6 63059511      0t0  TCP *:33208 (LISTEN)\n",
      "python    10287 asakhare   82u  IPv6 63043190      0t0  TCP *:36788 (LISTEN)\n",
      "python    10287 asakhare   83u  IPv6 63043191      0t0  TCP *:44686 (LISTEN)\n"
     ]
    }
   ],
   "source": [
    "%%bash\n",
    "lsof -i -P -n | grep LISTEN | grep python"
   ]
  },
  {
   "cell_type": "code",
   "execution_count": 22,
   "metadata": {},
   "outputs": [],
   "source": [
    "#works above tf 1.4\n",
    "#devices = sess.list_devices()\n",
    "#for d in devices:\n",
    "#    print(d.name)\n",
    "\n",
    "#/job:worker/replica:0/task:0/device:CPU:0"
   ]
  },
  {
   "cell_type": "code",
   "execution_count": null,
   "metadata": {},
   "outputs": [],
   "source": [
    "import tensorflow as tf"
   ]
  },
  {
   "cell_type": "code",
   "execution_count": null,
   "metadata": {},
   "outputs": [],
   "source": [
    "cluster = tf.train.ClusterSpec({\n",
    "    \"worker\": [\n",
    "        \"localhost:2222\",\n",
    "        \"localhost:2223\",\n",
    "    ],\n",
    "    \"ps\": [\n",
    "        \"localhost:2224\",\n",
    "        \"localhost:2225\"\n",
    "    ]})"
   ]
  },
  {
   "cell_type": "code",
   "execution_count": 1,
   "metadata": {},
   "outputs": [],
   "source": [
    "import os"
   ]
  },
  {
   "cell_type": "code",
   "execution_count": 2,
   "metadata": {},
   "outputs": [
    {
     "data": {
      "text/plain": [
       "'0'"
      ]
     },
     "execution_count": 2,
     "metadata": {},
     "output_type": "execute_result"
    }
   ],
   "source": [
    "os.environ['CUDA_VISIBLE_DEVICES']"
   ]
  },
  {
   "cell_type": "code",
   "execution_count": 8,
   "metadata": {},
   "outputs": [],
   "source": [
    "os.environ['CUDA_VISIBLE_DEVICES'] = ''"
   ]
  },
  {
   "cell_type": "code",
   "execution_count": 9,
   "metadata": {},
   "outputs": [
    {
     "data": {
      "text/plain": [
       "''"
      ]
     },
     "execution_count": 9,
     "metadata": {},
     "output_type": "execute_result"
    }
   ],
   "source": [
    "os.environ['CUDA_VISIBLE_DEVICES']"
   ]
  },
  {
   "cell_type": "code",
   "execution_count": 3,
   "metadata": {},
   "outputs": [],
   "source": [
    "type_='ps'"
   ]
  },
  {
   "cell_type": "code",
   "execution_count": 4,
   "metadata": {},
   "outputs": [],
   "source": [
    "if (type_=='ps'):\n",
    "    os.environ['CUDA_VISIBLE_DEVICES'] = ''\n",
    "else:\n",
    "    pass"
   ]
  },
  {
   "cell_type": "code",
   "execution_count": 5,
   "metadata": {},
   "outputs": [
    {
     "data": {
      "text/plain": [
       "''"
      ]
     },
     "execution_count": 5,
     "metadata": {},
     "output_type": "execute_result"
    }
   ],
   "source": [
    "os.environ['CUDA_VISIBLE_DEVICES']"
   ]
  },
  {
   "cell_type": "code",
   "execution_count": 6,
   "metadata": {},
   "outputs": [
    {
     "name": "stdout",
     "output_type": "stream",
     "text": [
      "*******Device Info Seen By TensorFlow*******\n",
      "[name: \"/cpu:0\"\n",
      "device_type: \"CPU\"\n",
      "memory_limit: 268435456\n",
      "locality {\n",
      "}\n",
      "incarnation: 13016095190179405664\n",
      "]\n"
     ]
    }
   ],
   "source": [
    "from tensorflow.python.client import device_lib\n",
    "print(\"*******Device Info Seen By TensorFlow*******\")\n",
    "print(device_lib.list_local_devices())"
   ]
  },
  {
   "cell_type": "code",
   "execution_count": null,
   "metadata": {},
   "outputs": [],
   "source": []
  }
 ],
 "metadata": {
  "kernelspec": {
   "display_name": "Python 3",
   "language": "python",
   "name": "python3"
  },
  "language_info": {
   "codemirror_mode": {
    "name": "ipython",
    "version": 3
   },
   "file_extension": ".py",
   "mimetype": "text/x-python",
   "name": "python",
   "nbconvert_exporter": "python",
   "pygments_lexer": "ipython3",
   "version": "3.6.4"
  }
 },
 "nbformat": 4,
 "nbformat_minor": 2
}
